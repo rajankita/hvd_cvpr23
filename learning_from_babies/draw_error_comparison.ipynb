{
 "cells": [
  {
   "cell_type": "code",
   "execution_count": 1,
   "metadata": {},
   "outputs": [],
   "source": [
    "import seaborn as sns\n",
    "import pandas as pd\n",
    "import matplotlib.pyplot as plt\n",
    "import numpy as np\n",
    "import textwrap\n",
    "import re"
   ]
  },
  {
   "cell_type": "code",
   "execution_count": 19,
   "metadata": {},
   "outputs": [],
   "source": [
    "# tips = sns.load_dataset(\"tips\")\n",
    "# tips"
   ]
  },
  {
   "cell_type": "code",
   "execution_count": 26,
   "metadata": {},
   "outputs": [],
   "source": [
    "# clean and corruption errors for different methods\n",
    "# cifar10, allconv\n",
    "vanilla = [6.78, 31.35]\n",
    "clewr = [7.68, 26.04]\n",
    "blur_aug = [6.72, 27.51]\n",
    "out_file = 'runs/cifar10/allconv/blur_aug_errors'"
   ]
  },
  {
   "cell_type": "code",
   "execution_count": 20,
   "metadata": {},
   "outputs": [
    {
     "data": {
      "text/html": [
       "<div>\n",
       "<style scoped>\n",
       "    .dataframe tbody tr th:only-of-type {\n",
       "        vertical-align: middle;\n",
       "    }\n",
       "\n",
       "    .dataframe tbody tr th {\n",
       "        vertical-align: top;\n",
       "    }\n",
       "\n",
       "    .dataframe thead th {\n",
       "        text-align: right;\n",
       "    }\n",
       "</style>\n",
       "<table border=\"1\" class=\"dataframe\">\n",
       "  <thead>\n",
       "    <tr style=\"text-align: right;\">\n",
       "      <th></th>\n",
       "      <th>Method</th>\n",
       "      <th>Error type</th>\n",
       "      <th>Error value</th>\n",
       "    </tr>\n",
       "  </thead>\n",
       "  <tbody>\n",
       "    <tr>\n",
       "      <th>0</th>\n",
       "      <td>Vanilla</td>\n",
       "      <td>Clean</td>\n",
       "      <td>6.78</td>\n",
       "    </tr>\n",
       "    <tr>\n",
       "      <th>1</th>\n",
       "      <td>Vanilla</td>\n",
       "      <td>Corrupted</td>\n",
       "      <td>31.35</td>\n",
       "    </tr>\n",
       "    <tr>\n",
       "      <th>2</th>\n",
       "      <td>CLEWR</td>\n",
       "      <td>Clean</td>\n",
       "      <td>7.68</td>\n",
       "    </tr>\n",
       "    <tr>\n",
       "      <th>3</th>\n",
       "      <td>CLEWR</td>\n",
       "      <td>Corrupted</td>\n",
       "      <td>26.04</td>\n",
       "    </tr>\n",
       "    <tr>\n",
       "      <th>4</th>\n",
       "      <td>Blur-Aug</td>\n",
       "      <td>Clean</td>\n",
       "      <td>6.72</td>\n",
       "    </tr>\n",
       "    <tr>\n",
       "      <th>5</th>\n",
       "      <td>Blur-Aug</td>\n",
       "      <td>Corrupted</td>\n",
       "      <td>27.51</td>\n",
       "    </tr>\n",
       "  </tbody>\n",
       "</table>\n",
       "</div>"
      ],
      "text/plain": [
       "     Method Error type  Error value\n",
       "0   Vanilla      Clean         6.78\n",
       "1   Vanilla  Corrupted        31.35\n",
       "2     CLEWR      Clean         7.68\n",
       "3     CLEWR  Corrupted        26.04\n",
       "4  Blur-Aug      Clean         6.72\n",
       "5  Blur-Aug  Corrupted        27.51"
      ]
     },
     "execution_count": 20,
     "metadata": {},
     "output_type": "execute_result"
    }
   ],
   "source": [
    "df = pd.DataFrame(columns=['Method', 'Error type', 'Error value'])\n",
    "df.loc[0] = ['Vanilla', 'Clean', vanilla[0]]\n",
    "df.loc[1] = ['Vanilla', 'Corrupted', vanilla[1]]\n",
    "df.loc[2] = ['CLEWR', 'Clean', clewr[0]]\n",
    "df.loc[3] = ['CLEWR', 'Corrupted', clewr[1]]\n",
    "df.loc[4] = ['Blur-Aug', 'Clean', blur_aug[0]]\n",
    "df.loc[5] = ['Blur-Aug', 'Corrupted', blur_aug[1]]\n",
    "df"
   ]
  },
  {
   "cell_type": "code",
   "execution_count": 24,
   "metadata": {},
   "outputs": [
    {
     "data": {
      "text/plain": [
       "<matplotlib.legend.Legend at 0x7f305f9373d0>"
      ]
     },
     "execution_count": 24,
     "metadata": {},
     "output_type": "execute_result"
    },
    {
     "data": {
      "image/png": "[encoded data removed]",
      "text/plain": [
       "<Figure size 1152x576 with 1 Axes>"
      ]
     },
     "metadata": {},
     "output_type": "display_data"
    }
   ],
   "source": [
    "fig, ax = plt.subplots(figsize=(16,8))\n",
    "sns.set_style('whitegrid')\n",
    "bp = sns.barplot(x=\"Error type\", y=\"Error value\", hue=\"Method\", data=df, palette='deep', ax=ax, linewidth=1.5)\n",
    "bp.set_xlabel(None)\n",
    "bp.set_ylabel(\"Error (%)\", fontsize=24)\n",
    "for item in bp.get_xticklabels():\n",
    "    item.set_fontsize(24)\n",
    "max_width=11\n",
    "bp.legend(prop={'size':24})"
   ]
  },
  {
   "cell_type": "code",
   "execution_count": 27,
   "metadata": {},
   "outputs": [],
   "source": [
    "ax.get_figure().savefig(out_file, dpi=300, transparent=False, bbox_inches='tight')"
   ]
  }
 ],
 "metadata": {
  "interpreter": {
   "hash": "9038778935509023bd1b8eda99c3b5914f5ae70ff93bace2dbd49c7a71dbaf04"
  },
  "kernelspec": {
   "display_name": "Python 3.7.10 64-bit ('env2': conda)",
   "language": "python",
   "name": "python3"
  },
  "language_info": {
   "codemirror_mode": {
    "name": "ipython",
    "version": 3
   },
   "file_extension": ".py",
   "mimetype": "text/x-python",
   "name": "python",
   "nbconvert_exporter": "python",
   "pygments_lexer": "ipython3",
   "version": "3.7.10"
  },
  "orig_nbformat": 4
 },
 "nbformat": 4,
 "nbformat_minor": 2
}
