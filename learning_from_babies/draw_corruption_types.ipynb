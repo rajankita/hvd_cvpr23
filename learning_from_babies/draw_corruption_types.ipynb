{
 "cells": [
  {
   "cell_type": "code",
   "execution_count": 1,
   "metadata": {},
   "outputs": [],
   "source": [
    "import seaborn as sns\n",
    "import pandas as pd\n",
    "import matplotlib.pyplot as plt\n",
    "import numpy as np\n",
    "import textwrap\n",
    "import re"
   ]
  },
  {
   "cell_type": "code",
   "execution_count": 2,
   "metadata": {},
   "outputs": [],
   "source": [
    "results_file_1 = 'runs/cifar10/allconv/vanilla/corruptions.csv'\n",
    "results_file_2 = 'runs/cifar10/allconv/curr_exp/corruptions.csv'\n",
    "\n",
    "out_file = 'runs/cifar10/allconv/curr_exp/plot_for_corruption.png'"
   ]
  },
  {
   "cell_type": "code",
   "execution_count": 3,
   "metadata": {},
   "outputs": [],
   "source": [
    "# load mCE values from df1\n",
    "df1_full = pd.read_csv(results_file_1)\n",
    "df1 = df1_full[['Corruption', 'mCE']][1:16]\n",
    "df1 = df1.set_index('Corruption')\n",
    "df1.head()\n",
    "\n",
    "# load mCE values from df2\n",
    "df2_full = pd.read_csv(results_file_2)\n",
    "df2 = df2_full[['Corruption', 'mCE']][1:16]\n",
    "df2 = df2.set_index('Corruption')\n",
    "# df2"
   ]
  },
  {
   "cell_type": "code",
   "execution_count": 4,
   "metadata": {},
   "outputs": [],
   "source": [
    "df1 = df1.rename(index={\"gaussian_noise\": \"Gaussian\\nNoise\", \"shot_noise\": \"Shot\\nNoise\", \"impulse_noise\":\"Impulse\\nNoise\", \n",
    "                        \"defocus_blur\":\"Defocus\\nBlur\", \"glass_blur\":\"Glass\\nBlur\", \n",
    "                        \"motion_blur\":\"Motion\\nBlur\",\"zoom_blur\": \"Zoom\\nBlur\", \n",
    "                        \"snow\": \"Snow\", \"frost\":\"Frost\", \"fog\": \"Fog\", \n",
    "                        \"brightness\": \"Brightness\", \"contrast\": \"Contrast\", \"elastic_transform\": \"Elastic\", \n",
    "                        \"pixelate\": \"Pixelate\", \"jpeg_compression\": \"JPEG\"})\n",
    "df2 = df2.rename(index={\"gaussian_noise\": \"Gaussian\\nNoise\", \"shot_noise\": \"Shot\\nNoise\", \"impulse_noise\":\"Impulse\\nNoise\", \n",
    "                        \"defocus_blur\":\"Defocus\\nBlur\", \"glass_blur\":\"Glass\\nBlur\", \n",
    "                        \"motion_blur\":\"Motion\\nBlur\",\"zoom_blur\": \"Zoom\\nBlur\", \n",
    "                        \"snow\": \"Snow\", \"frost\":\"Frost\", \"fog\": \"Fog\", \n",
    "                        \"brightness\": \"Brightness\", \"contrast\": \"Contrast\", \"elastic_transform\": \"Elastic\", \n",
    "                        \"pixelate\": \"Pixelate\", \"jpeg_compression\": \"JPEG\"})\n"
   ]
  },
  {
   "cell_type": "code",
   "execution_count": 5,
   "metadata": {},
   "outputs": [
    {
     "data": {
      "text/html": [
       "<div>\n",
       "<style scoped>\n",
       "    .dataframe tbody tr th:only-of-type {\n",
       "        vertical-align: middle;\n",
       "    }\n",
       "\n",
       "    .dataframe tbody tr th {\n",
       "        vertical-align: top;\n",
       "    }\n",
       "\n",
       "    .dataframe thead th {\n",
       "        text-align: right;\n",
       "    }\n",
       "</style>\n",
       "<table border=\"1\" class=\"dataframe\">\n",
       "  <thead>\n",
       "    <tr style=\"text-align: right;\">\n",
       "      <th></th>\n",
       "      <th>Corruption</th>\n",
       "      <th>value</th>\n",
       "      <th>Method</th>\n",
       "    </tr>\n",
       "  </thead>\n",
       "  <tbody>\n",
       "    <tr>\n",
       "      <th>0</th>\n",
       "      <td>Gaussian\\nNoise</td>\n",
       "      <td>57.434</td>\n",
       "      <td>Vanilla</td>\n",
       "    </tr>\n",
       "    <tr>\n",
       "      <th>1</th>\n",
       "      <td>Shot\\nNoise</td>\n",
       "      <td>46.044</td>\n",
       "      <td>Vanilla</td>\n",
       "    </tr>\n",
       "    <tr>\n",
       "      <th>2</th>\n",
       "      <td>Impulse\\nNoise</td>\n",
       "      <td>51.456</td>\n",
       "      <td>Vanilla</td>\n",
       "    </tr>\n",
       "    <tr>\n",
       "      <th>3</th>\n",
       "      <td>Defocus\\nBlur</td>\n",
       "      <td>23.506</td>\n",
       "      <td>Vanilla</td>\n",
       "    </tr>\n",
       "    <tr>\n",
       "      <th>4</th>\n",
       "      <td>Glass\\nBlur</td>\n",
       "      <td>51.892</td>\n",
       "      <td>Vanilla</td>\n",
       "    </tr>\n",
       "  </tbody>\n",
       "</table>\n",
       "</div>"
      ],
      "text/plain": [
       "        Corruption   value   Method\n",
       "0  Gaussian\\nNoise  57.434  Vanilla\n",
       "1      Shot\\nNoise  46.044  Vanilla\n",
       "2   Impulse\\nNoise  51.456  Vanilla\n",
       "3    Defocus\\nBlur  23.506  Vanilla\n",
       "4      Glass\\nBlur  51.892  Vanilla"
      ]
     },
     "execution_count": 5,
     "metadata": {},
     "output_type": "execute_result"
    }
   ],
   "source": [
    "# Join the two DFs\n",
    "df1_melt = pd.melt(df1.T)\n",
    "# print(df1_melt)\n",
    "df2_melt = pd.melt(df2.T)\n",
    "df1_melt['Method'] = 'Vanilla'\n",
    "df2_melt['Method'] = 'CLEWR'\n",
    "df_joint = pd.concat((df1_melt, df2_melt))\n",
    "# df_joint.Corruption = [re.sub(\"(.{11})\", \"\\\\1\\n\", label, 0, re.DOTALL) for label in df_joint.Corruption]\n",
    "df_joint.head()"
   ]
  },
  {
   "cell_type": "code",
   "execution_count": 6,
   "metadata": {},
   "outputs": [
    {
     "data": {
      "text/plain": [
       "<matplotlib.legend.Legend at 0x7fb818e0ac50>"
      ]
     },
     "execution_count": 6,
     "metadata": {},
     "output_type": "execute_result"
    },
    {
     "data": {
      "image/png": "[encoded data removed]",
      "text/plain": [
       "<Figure size 1152x576 with 1 Axes>"
      ]
     },
     "metadata": {
      "needs_background": "light"
     },
     "output_type": "display_data"
    }
   ],
   "source": [
    "ig, ax = plt.subplots(figsize=(16,8))\n",
    "sns.set_style('whitegrid')\n",
    "bp = sns.barplot(x=\"Corruption\", y=\"value\", hue=\"Method\", data=df_joint, palette='deep', ax=ax, linewidth=1.5)\n",
    "bp.set_xlabel(None)\n",
    "bp.set_ylabel(\"Error (%)\", fontsize=20)\n",
    "for item in bp.get_xticklabels():\n",
    "    item.set_rotation(90)\n",
    "    item.set_fontsize(20)\n",
    "max_width=11\n",
    "bp.legend(prop={'size':20})"
   ]
  },
  {
   "cell_type": "code",
   "execution_count": 8,
   "metadata": {},
   "outputs": [],
   "source": [
    "ax.get_figure().savefig(out_file, dpi=300, transparent=False, bbox_inches='tight')"
   ]
  }
 ],
 "metadata": {
  "interpreter": {
   "hash": "9038778935509023bd1b8eda99c3b5914f5ae70ff93bace2dbd49c7a71dbaf04"
  },
  "kernelspec": {
   "display_name": "Python 3.7.10 64-bit ('env2': conda)",
   "language": "python",
   "name": "python3"
  },
  "language_info": {
   "codemirror_mode": {
    "name": "ipython",
    "version": 3
   },
   "file_extension": ".py",
   "mimetype": "text/x-python",
   "name": "python",
   "nbconvert_exporter": "python",
   "pygments_lexer": "ipython3",
   "version": "3.7.10"
  },
  "orig_nbformat": 4
 },
 "nbformat": 4,
 "nbformat_minor": 2
}
